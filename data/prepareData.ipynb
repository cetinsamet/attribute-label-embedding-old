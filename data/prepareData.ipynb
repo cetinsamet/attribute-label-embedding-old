{
 "cells": [
  {
   "cell_type": "code",
   "execution_count": 1,
   "metadata": {},
   "outputs": [],
   "source": [
    "#\n",
    "# prepareData.ipynb\n",
    "#\n",
    "# Jupyter Notebook to prepare datasets for further zero-shot learning tasks \n",
    "# APY  : Attribute Pascal & Yahoo Dataset\n",
    "#\n",
    "# Written by cetinsamet -*- cetin.samet@metu.edu.tr\n",
    "# April, 2019 "
   ]
  },
  {
   "cell_type": "code",
   "execution_count": 2,
   "metadata": {},
   "outputs": [],
   "source": [
    "import scipy.io as sio\n",
    "import numpy as np\n",
    "import os"
   ]
  },
  {
   "cell_type": "code",
   "execution_count": 3,
   "metadata": {},
   "outputs": [],
   "source": [
    "def read_file(filepath):\n",
    "    file_content = []\n",
    "    with open(filepath, 'r') as infile:\n",
    "        for line in infile:\n",
    "            file_content.append(line.strip())\n",
    "    \n",
    "    return file_content"
   ]
  },
  {
   "cell_type": "code",
   "execution_count": 5,
   "metadata": {},
   "outputs": [],
   "source": [
    "# ------ * ------ # ------ * ------ # ------ * ------ # ------ * ------ # ------ * ------ # ------ * ------ #\n",
    "#                                                 APY DATASET                                               #\n",
    "# ------ * ------ # ------ * ------ # ------ * ------ # ------ * ------ # ------ * ------ # ------ * ------ #"
   ]
  },
  {
   "cell_type": "code",
   "execution_count": 6,
   "metadata": {},
   "outputs": [],
   "source": [
    "# Read training classes  ---  Number of Classes: 15\n",
    "train_classes = read_file('APY/trainclasses1.txt')\n",
    "\n",
    "# Read validation classes  ---  Number of Classes: 5\n",
    "val_classes   = read_file('APY/valclasses1.txt')\n",
    "\n",
    "# Read training and validation classes  ---  Number of Classes: 20 (15 + 5)\n",
    "trainval_classes = read_file('APY/trainvalclasses.txt') \n",
    "\n",
    "# Read test classes  ---  Number of Classes: 12\n",
    "test_classes     = read_file('APY/testclasses.txt')"
   ]
  },
  {
   "cell_type": "code",
   "execution_count": 7,
   "metadata": {},
   "outputs": [],
   "source": [
    "# Load image features\n",
    "features = sio.loadmat('APY/res101.mat')['features'].T\n",
    "\n",
    "# Load image labels\n",
    "labels   = sio.loadmat('APY/res101.mat')['labels']\n",
    "\n",
    "# Load metadata of dataset\n",
    "metaData = sio.loadmat('APY/att_splits.mat')"
   ]
  },
  {
   "cell_type": "code",
   "execution_count": 8,
   "metadata": {},
   "outputs": [],
   "source": [
    "# Read all classes\n",
    "all_classes = [str(currClass[0][0]) for currClass in metaData['allclasses_names']]"
   ]
  },
  {
   "cell_type": "code",
   "execution_count": 9,
   "metadata": {},
   "outputs": [
    {
     "name": "stdout",
     "output_type": "stream",
     "text": [
      "|#ofIndices: 15 \t|Train Indices: [1, 2, 3, 4, 5, 6, 7, 8, 10, 11, 21, 25, 26, 27, 29]\n"
     ]
    }
   ],
   "source": [
    "# Find train class indices\n",
    "train_indices = [i for i, class_ in enumerate(all_classes) if class_ in train_classes]\n",
    "print(\"|#ofIndices:\", len(train_indices), \"\\t|Train Indices:\", train_indices)"
   ]
  },
  {
   "cell_type": "code",
   "execution_count": 10,
   "metadata": {},
   "outputs": [
    {
     "name": "stdout",
     "output_type": "stream",
     "text": [
      "|#ofIndices: 5 \t\t|Val Indices: [0, 17, 23, 30, 31]\n"
     ]
    }
   ],
   "source": [
    "# Find val class indices\n",
    "val_indices = [i for i, class_ in enumerate(all_classes) if class_ in val_classes]\n",
    "print(\"|#ofIndices:\", len(val_indices), \"\\t\\t|Val Indices:\", val_indices)"
   ]
  },
  {
   "cell_type": "code",
   "execution_count": 11,
   "metadata": {},
   "outputs": [
    {
     "name": "stdout",
     "output_type": "stream",
     "text": [
      "|#ofIndices: 20 \t|TrainVal Indices: [0, 1, 2, 3, 4, 5, 6, 7, 8, 10, 11, 17, 21, 23, 25, 26, 27, 29, 30, 31]\n"
     ]
    }
   ],
   "source": [
    "trainval_indices = [i for i, class_ in enumerate(all_classes) if class_ in trainval_classes]\n",
    "print(\"|#ofIndices:\", len(trainval_indices), \"\\t|TrainVal Indices:\", trainval_indices)"
   ]
  },
  {
   "cell_type": "code",
   "execution_count": 12,
   "metadata": {},
   "outputs": [
    {
     "name": "stdout",
     "output_type": "stream",
     "text": [
      "|#ofIndices: 12 \t|Test Indices: [9, 12, 13, 14, 15, 16, 18, 19, 20, 22, 24, 28]\n"
     ]
    }
   ],
   "source": [
    "test_indices = [i for i, class_ in enumerate(all_classes) if class_ in test_classes]\n",
    "print(\"|#ofIndices:\", len(test_indices), \"\\t|Test Indices:\", test_indices)"
   ]
  },
  {
   "cell_type": "code",
   "execution_count": 13,
   "metadata": {},
   "outputs": [
    {
     "name": "stdout",
     "output_type": "stream",
     "text": [
      "Num TrainVal    :  5932\n",
      "Num Test Seen   :  1483\n",
      "Num Test Unseen :  7924\n"
     ]
    }
   ],
   "source": [
    "trainval_loc    = metaData['trainval_loc']\n",
    "test_seen_loc   = metaData['test_seen_loc']\n",
    "test_unseen_loc = metaData['test_unseen_loc']\n",
    "\n",
    "print(\"Num TrainVal    : \", str(trainval_loc.shape[0]))\n",
    "print(\"Num Test Seen   : \", str(test_seen_loc.shape[0]))\n",
    "print(\"Num Test Unseen : \", str(test_unseen_loc.shape[0]))"
   ]
  },
  {
   "cell_type": "code",
   "execution_count": 14,
   "metadata": {},
   "outputs": [],
   "source": [
    "if not os.path.exists('APYP/test'):\n",
    "    os.makedirs('APYP/test')\n",
    "    \n",
    "if not os.path.exists('APYP/validation'):\n",
    "    os.makedirs('APYP/validation')"
   ]
  },
  {
   "cell_type": "code",
   "execution_count": 15,
   "metadata": {},
   "outputs": [],
   "source": [
    "# LABELS (PART I)\n",
    "\n",
    "trainval_labels    = (labels[trainval_loc - 1] - 1).reshape(-1, 1)\n",
    "test_seen_labels   = (labels[test_seen_loc - 1] - 1).reshape(-1, 1)\n",
    "test_unseen_labels = (labels[test_unseen_loc - 1] - 1).reshape(-1, 1)\n",
    "\n",
    "sio.savemat('APYP/test/trainval_labels.mat', {'trainval_labels':trainval_labels})\n",
    "sio.savemat('APYP/test/test_seen_labels.mat', {'test_seen_labels':test_seen_labels})\n",
    "sio.savemat('APYP/test/test_unseen_labels.mat', {'test_unseen_labels':test_unseen_labels})"
   ]
  },
  {
   "cell_type": "code",
   "execution_count": 16,
   "metadata": {},
   "outputs": [],
   "source": [
    "# FEATURES (PART I)\n",
    "\n",
    "trainval_features     = (features[trainval_loc - 1]).reshape(-1, 2048)\n",
    "test_seen_features    = (features[test_seen_loc - 1]).reshape(-1, 2048)\n",
    "test_unseen_features  = (features[test_unseen_loc - 1]).reshape(-1, 2048)\n",
    "\n",
    "sio.savemat('APYP/test/trainval_features.mat', {'trainval_features':trainval_features})\n",
    "sio.savemat('APYP/test/test_seen_features.mat', {'test_seen_features':test_seen_features})\n",
    "sio.savemat('APYP/test/test_unseen_features.mat', {'test_unseen_features':test_unseen_features})"
   ]
  },
  {
   "cell_type": "code",
   "execution_count": 17,
   "metadata": {},
   "outputs": [
    {
     "name": "stdout",
     "output_type": "stream",
     "text": [
      "Num train loc     : 4906\n",
      "Num val unseen loc: 1026\n"
     ]
    }
   ],
   "source": [
    "train_loc      = []\n",
    "val_unseen_loc = [] \n",
    "\n",
    "for i, label in enumerate(trainval_labels):\n",
    "\n",
    "    if label[0] in train_indices:\n",
    "        train_loc.append(i)\n",
    "    elif label[0] in val_indices:\n",
    "        val_unseen_loc.append(i)\n",
    "    else:\n",
    "        pass\n",
    "    \n",
    "val_unseen_loc    = np.asarray(val_unseen_loc)\n",
    "\n",
    "print(\"Num train loc     : %d\" % len(train_loc))\n",
    "print(\"Num val unseen loc: %d\" % len(val_unseen_loc))"
   ]
  },
  {
   "cell_type": "code",
   "execution_count": 18,
   "metadata": {},
   "outputs": [
    {
     "name": "stdout",
     "output_type": "stream",
     "text": [
      "Num x_train loc    : 4415\n",
      "Num x_val_seen loc : 491\n"
     ]
    }
   ],
   "source": [
    "from sklearn.model_selection import train_test_split\n",
    "splitRate = 0.1\n",
    "\n",
    "x_train_loc, x_val_seen_loc, _, _ = train_test_split(train_loc,\\\n",
    "                                                     trainval_labels[np.asarray(train_loc)],\\\n",
    "                                                     test_size=splitRate,\\\n",
    "                                                     random_state=123)\n",
    "x_train_loc    = np.asarray(x_train_loc)\n",
    "x_val_seen_loc = np.asarray(x_val_seen_loc)\n",
    "print(\"Num x_train loc    : %d\" % len(x_train_loc))\n",
    "print(\"Num x_val_seen loc : %d\" % len(x_val_seen_loc))"
   ]
  },
  {
   "cell_type": "code",
   "execution_count": 19,
   "metadata": {},
   "outputs": [],
   "source": [
    "# LABELS (PART II)\n",
    "\n",
    "train_labels      = trainval_labels[x_train_loc]\n",
    "val_seen_labels   = trainval_labels[x_val_seen_loc]\n",
    "val_unseen_labels = trainval_labels[val_unseen_loc]\n",
    "\n",
    "sio.savemat('APYP/validation/train_labels.mat', {'train_labels':train_labels})\n",
    "sio.savemat('APYP/validation/val_seen_labels.mat', {'val_seen_labels':val_seen_labels})\n",
    "sio.savemat('APYP/validation/val_unseen_labels.mat', {'val_unseen_labels':val_unseen_labels})"
   ]
  },
  {
   "cell_type": "code",
   "execution_count": 20,
   "metadata": {},
   "outputs": [],
   "source": [
    "# FEATURES (PART II)\n",
    "\n",
    "train_features      = trainval_features[x_train_loc]\n",
    "val_seen_features   = trainval_features[x_val_seen_loc]\n",
    "val_unseen_features = trainval_features[val_unseen_loc]\n",
    "\n",
    "sio.savemat('APYP/validation/train_features.mat', {'train_features':train_features})\n",
    "sio.savemat('APYP/validation/val_seen_features.mat', {'val_seen_features':val_seen_features})\n",
    "sio.savemat('APYP/validation/val_unseen_features.mat', {'val_unseen_features':val_unseen_features})"
   ]
  },
  {
   "cell_type": "code",
   "execution_count": 21,
   "metadata": {},
   "outputs": [],
   "source": [
    "attribute     = metaData['att'].T\n",
    "org_attribute = metaData['original_att'].T"
   ]
  },
  {
   "cell_type": "code",
   "execution_count": 22,
   "metadata": {},
   "outputs": [],
   "source": [
    "# CLASS-LEVEL ATTRIBUTES\n",
    "sio.savemat('APYP/all_class_vec.mat', {'all_class_vec':attribute})"
   ]
  }
 ],
 "metadata": {
  "kernelspec": {
   "display_name": "Python 3",
   "language": "python",
   "name": "python3"
  },
  "language_info": {
   "codemirror_mode": {
    "name": "ipython",
    "version": 3
   },
   "file_extension": ".py",
   "mimetype": "text/x-python",
   "name": "python",
   "nbconvert_exporter": "python",
   "pygments_lexer": "ipython3",
   "version": "3.6.5"
  }
 },
 "nbformat": 4,
 "nbformat_minor": 2
}
